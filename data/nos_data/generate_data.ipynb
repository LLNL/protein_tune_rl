{
 "cells": [
  {
   "cell_type": "code",
   "execution_count": 1,
   "metadata": {},
   "outputs": [],
   "source": [
    "import pandas as pd\n",
    "import numpy as np"
   ]
  },
  {
   "cell_type": "code",
   "execution_count": 3,
   "metadata": {},
   "outputs": [],
   "source": [
    "df = pd.concat([pd.read_csv(f\"../nos_data/source_data/train_{i}.csv\") for i in range(10)])\n",
    "df.dropna(subset=['sasa'], inplace=True)"
   ]
  },
  {
   "cell_type": "code",
   "execution_count": 6,
   "metadata": {},
   "outputs": [
    {
     "data": {
      "text/plain": [
       "Index(['seq', 'length', 'molecular_weight', 'aromaticity', 'instability_index',\n",
       "       'isoelectric_point', 'avg_flexibility', 'gravy', 'ss_perc_helix',\n",
       "       'ss_perc_turn', 'ss_perc_sheet', 'aa_perc_A', 'aa_perc_C', 'aa_perc_D',\n",
       "       'aa_perc_E', 'aa_perc_F', 'aa_perc_G', 'aa_perc_H', 'aa_perc_I',\n",
       "       'aa_perc_K', 'aa_perc_L', 'aa_perc_M', 'aa_perc_N', 'aa_perc_P',\n",
       "       'aa_perc_Q', 'aa_perc_R', 'aa_perc_S', 'aa_perc_T', 'aa_perc_V',\n",
       "       'aa_perc_W', 'aa_perc_Y', 'sasa', 'HeavyAA', 'LightAA', 'igfold_id',\n",
       "       'HeavyAA_aligned', 'LightAA_aligned', 'full_seq'],\n",
       "      dtype='object')"
      ]
     },
     "execution_count": 6,
     "metadata": {},
     "output_type": "execute_result"
    }
   ],
   "source": [
    "df.columns"
   ]
  },
  {
   "cell_type": "code",
   "execution_count": 7,
   "metadata": {},
   "outputs": [],
   "source": [
    "sasa_rewards = df.sasa\n",
    "ss_perc_sheet_rewards = df.ss_perc_sheet\n",
    "heavy_sequences = df.HeavyAA\n",
    "light_sequences = df.LightAA"
   ]
  },
  {
   "cell_type": "code",
   "execution_count": 8,
   "metadata": {},
   "outputs": [],
   "source": [
    "seq_reward_df = pd.DataFrame()"
   ]
  },
  {
   "cell_type": "code",
   "execution_count": 9,
   "metadata": {},
   "outputs": [],
   "source": [
    "sequences = heavy_sequences\n",
    "sasa_reward = sasa_rewards\n",
    "ss_perc_sheet_reward = ss_perc_sheet_rewards"
   ]
  },
  {
   "cell_type": "code",
   "execution_count": 4,
   "metadata": {},
   "outputs": [],
   "source": [
    "annotated_df = pd.read_csv(\"../nos_data/source_data/train_annotated_HL.csv\")"
   ]
  },
  {
   "cell_type": "code",
   "execution_count": 11,
   "metadata": {},
   "outputs": [
    {
     "data": {
      "text/plain": [
       "Index(['Id', 'HC', 'LC', 'hmm_species_x', 'v_gene_heavy', 'v_identity_heavy',\n",
       "       'j_gene_heavy', 'j_identity_heavy', 'H_FR1', 'H_CDR1', 'H_FR2',\n",
       "       'H_CDR2', 'H_FR3', 'H_CDR3', 'H_FR4', 'hmm_species_y', 'v_gene_light',\n",
       "       'v_identity_light', 'j_gene_light', 'j_identity_light', 'L_FR1',\n",
       "       'L_CDR1', 'L_FR2', 'L_CDR2', 'L_FR3', 'L_CDR3', 'L_FR4'],\n",
       "      dtype='object')"
      ]
     },
     "execution_count": 11,
     "metadata": {},
     "output_type": "execute_result"
    }
   ],
   "source": [
    "annotated_df.columns"
   ]
  },
  {
   "cell_type": "code",
   "execution_count": 12,
   "metadata": {},
   "outputs": [],
   "source": [
    "heavy_chains = []\n",
    "hcdr1, hcdr2, hcdr3 = [], [], []\n",
    "\n",
    "light_chains = []\n",
    "lcdr1, lcdr2, lcdr3 = [], [], []\n",
    "\n",
    "for heavy, light in zip(heavy_sequences, light_sequences):\n",
    "    try:\n",
    "        tmp = annotated_df[(annotated_df.HC == heavy) & (annotated_df.LC == light)]\n",
    "        heavy_chains.append(heavy)\n",
    "        hcdr1.append(tmp.H_CDR1.values[0])\n",
    "        hcdr2.append(tmp.H_CDR2.values[0])\n",
    "        hcdr3.append(tmp.H_CDR3.values[0])        \n",
    "\n",
    "        light_chains.append(light)\n",
    "        lcdr1.append(tmp.L_CDR1.values[0])\n",
    "        lcdr2.append(tmp.L_CDR2.values[0])\n",
    "        lcdr3.append(tmp.L_CDR3.values[0])\n",
    "    \n",
    "    except:\n",
    "        print(\"error\")"
   ]
  },
  {
   "cell_type": "code",
   "execution_count": 13,
   "metadata": {},
   "outputs": [],
   "source": [
    "\n",
    "all_data = pd.DataFrame(columns=[\"HC\", \"HCDR1\", \"HCDR2\", \"HCDR3\", \"LC\", \"LCDR1\", \"LCDR2\", \"LCDR3\", \"sasa\", \"ss_perc_sheet\"])\n",
    "\n",
    "all_data['HC'] = heavy_chains\n",
    "all_data['HCDR1'] = hcdr1\n",
    "all_data['HCDR2'] = hcdr2\n",
    "all_data['HCDR3'] = hcdr3\n",
    "\n",
    "all_data['LC'] = light_chains\n",
    "all_data['LCDR1'] = lcdr1\n",
    "all_data['LCDR2'] = lcdr2\n",
    "all_data['LCDR3'] = lcdr3\n",
    "\n",
    "all_data['sasa'] = np.array(sasa_rewards)\n",
    "all_data['ss_perc_sheet'] = np.array(ss_perc_sheet_rewards)\n",
    "\n",
    "all_data['norm_sasa'] = (np.array(sasa_rewards) - np.mean(np.array(sasa_rewards))) / np.std(np.array(sasa_rewards))\n",
    "all_data['norm_ss_perc_sheet'] = (np.array(ss_perc_sheet_rewards) - np.mean(np.array(ss_perc_sheet_rewards))) / np.std(np.array(ss_perc_sheet_rewards))\n",
    "\n",
    "\n",
    "training_df = all_data.sample(frac=0.9, random_state=42)\n",
    "test_df = all_data.drop(training_df.index)\n",
    "\n",
    "\n",
    "training_df_10k = training_df.sample(10000)\n",
    "\n",
    "training_df.to_csv(\"training_data.csv\", index=False)\n",
    "training_df_10k.to_csv(\"training_data_10k.csv\", index=False)\n",
    "\n",
    "test_df.to_csv(\"eval_data.csv\", index=False)\n"
   ]
  }
 ],
 "metadata": {
  "kernelspec": {
   "display_name": ".venv",
   "language": "python",
   "name": "python3"
  },
  "language_info": {
   "codemirror_mode": {
    "name": "ipython",
    "version": 3
   },
   "file_extension": ".py",
   "mimetype": "text/x-python",
   "name": "python",
   "nbconvert_exporter": "python",
   "pygments_lexer": "ipython3",
   "version": "3.9.20"
  }
 },
 "nbformat": 4,
 "nbformat_minor": 2
}
